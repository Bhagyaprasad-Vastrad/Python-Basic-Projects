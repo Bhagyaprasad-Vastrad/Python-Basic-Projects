{
 "cells": [
  {
   "cell_type": "markdown",
   "metadata": {},
   "source": [
    "Bostan_house\n",
    "--------------------"
   ]
  },
  {
   "cell_type": "code",
   "execution_count": 111,
   "metadata": {},
   "outputs": [
    {
     "name": "stdout",
     "output_type": "stream",
     "text": [
      "r2_score test 0.718040033842644\n",
      "r2_score train 0.6593147963235885\n"
     ]
    }
   ],
   "source": [
    "import pandas as pd\n",
    "import numpy as np\n",
    "from sklearn.datasets import load_boston\n",
    "from sklearn.metrics import  r2_score\n",
    "from sklearn.linear_model import LinearRegression\n",
    "from sklearn.preprocessing import StandardScaler\n",
    "X,y=load_boston(return_X_y=True)\n",
    "\n",
    "sc=StandardScaler()\n",
    "X_new=sc.fit_transform(X)\n",
    "from sklearn.model_selection import train_test_split\n",
    "X_train,X_test,y_train,y_test=train_test_split(X_new,y, random_state=16)\n",
    "lr=LinearRegression()\n",
    "lr.fit(X_train,y_train,)\n",
    "pred_test=lr.predict(X_test)\n",
    "pred_train=lr.predict(X_train)\n",
    "\n",
    "print(\"r2_score test\",r2_score(pred_test,y_test))\n",
    "print(\"r2_score train\",r2_score(pred_train,y_train))"
   ]
  },
  {
   "cell_type": "markdown",
   "metadata": {},
   "source": [
    "California_housing\n",
    "-------------------------\n"
   ]
  },
  {
   "cell_type": "code",
   "execution_count": 110,
   "metadata": {},
   "outputs": [
    {
     "name": "stdout",
     "output_type": "stream",
     "text": [
      "r2_score test 0.9054407297897562\n",
      "r2_score train 0.9121512086804158\n"
     ]
    }
   ],
   "source": [
    "from sklearn.datasets import california_housing\n",
    "df=pd.read_csv(\"E:/PyAndML/New_ML/dataset/regression/california_house_price.csv\")\n",
    "\n",
    "Xc=df.iloc[:,0:-2].values\n",
    "yc=df.iloc[:,-2].values\n",
    "Xc_new=sc.fit_transform(Xc)\n",
    "Xc_train,Xc_test,yc_train,yc_test=train_test_split(Xc_new,yc,random_state=9)\n",
    "lr.fit(Xc_train,yc_train)\n",
    "pred_Xc_test=lr.predict(Xc_test)\n",
    "pred_Xc_train=lr.predict(Xc_train)\n",
    "print(\"r2_score test\",r2_score(pred_Xc_test,yc_test))\n",
    "print(\"r2_score train\",r2_score(pred_Xc_train,yc_train))"
   ]
  },
  {
   "cell_type": "code",
   "execution_count": null,
   "metadata": {},
   "outputs": [],
   "source": []
  }
 ],
 "metadata": {
  "kernelspec": {
   "display_name": "Python 3",
   "language": "python",
   "name": "python3"
  },
  "language_info": {
   "codemirror_mode": {
    "name": "ipython",
    "version": 3
   },
   "file_extension": ".py",
   "mimetype": "text/x-python",
   "name": "python",
   "nbconvert_exporter": "python",
   "pygments_lexer": "ipython3",
   "version": "3.7.4"
  }
 },
 "nbformat": 4,
 "nbformat_minor": 4
}
